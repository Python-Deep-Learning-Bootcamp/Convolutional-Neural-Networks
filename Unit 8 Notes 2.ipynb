{
 "cells": [
  {
   "cell_type": "markdown",
   "id": "af1429d3",
   "metadata": {},
   "source": [
    "Image Filters/Kernel\n",
    "\n",
    "Computer Vision\n",
    "- using computer programs to process image data\n",
    "\n",
    "Image Kernal\n",
    "- a small matrix applied to an entire image\n",
    "- certain popular filters are well known, for example the blur filter\n",
    "\n",
    "- Filters allow us to transform an image\n",
    "- Essentially multiply by filter weights, and then sum the result\n",
    "- stirde across the image, can edit our stride, has to be at least one pixel over at a time\n",
    "    - you stride (drag/slide the filter matrix across the image matrix)\n",
    "\n",
    "Filters can do other things such as identify features such as eyebrows, this would be helpful in facial recognition\n",
    "\n",
    "setosa.io/ev/image-kernels/ interactive to see how this works\n",
    "\n",
    "\n",
    "In the context of CNNs these filters are referred to as convolution kernels\n",
    "\n",
    "The process of passing them over an image is known as convolution\n",
    "\n",
    "During convolution we would lose borders, you can pad the image with more values such as 0's all the way around"
   ]
  },
  {
   "cell_type": "markdown",
   "id": "6682123a",
   "metadata": {},
   "source": [
    "Convolutional Layers\n",
    "- created when we apply multiple image filters to the input images\n",
    "- layer will then be trained to figure out the best filter weight values\n",
    "- reduces parameters by focusing on local connectivity\n",
    "- not all neurons are fully connected\n",
    "- neurons are only connected to a subset of local neurons in the next layer (these end up being the filters)"
   ]
  },
  {
   "cell_type": "markdown",
   "id": "ebdd2e27",
   "metadata": {},
   "source": [
    "When dealing with color you will have width and height and three color channels. If you grab just one of those color channels it will look like gray scale because it just represents the intensity of that color scale (red, green, blue). When you combine them you get the colored image. Computer doesnt know that a channel is red it just knows that there are three intensity channels."
   ]
  },
  {
   "cell_type": "markdown",
   "id": "f3b73981",
   "metadata": {},
   "source": [
    "You will get a 3 dimensional filter to deal with color images, and can still create multiple layers"
   ]
  },
  {
   "cell_type": "markdown",
   "id": "6a42a453",
   "metadata": {},
   "source": [
    "Often convolutional layers are fed into another convolutional layer\n",
    "- network can discover patterns within patterns"
   ]
  },
  {
   "cell_type": "markdown",
   "id": "c0694125",
   "metadata": {},
   "source": [
    "Pooling Layers\n",
    "- pooling layers accept convolutional layers as input\n",
    "- this can decrease parameters\n",
    "\n",
    "Use max pooling \n",
    "- choose window size (ex.2 2x2) and stride (ex. 2)\n",
    "- take the max value of the subset matrix in the window\n",
    "- loose some of the information but it maintains the general information\n",
    "\n",
    "Can also use average pooling\n",
    "\n",
    "Another common technique is the dropout layer\n",
    "- a form of regularization to help prevent overfitting\n",
    "- during training, units are randomly dropped along with their connections\n",
    "- helps prevent units from co-adapting too much\n",
    "\n",
    "There are other architectures as well\n",
    "- AlexNet\n",
    "- many more too\n",
    "\n",
    "\n",
    "Can have all types fo architectures\n",
    "- input, conv, conv, conv, pool\n",
    "- input, conv, pool, conv, pool\n",
    "\n",
    "Always this basic structure\n",
    "- input, conv, pool, fc, output\n"
   ]
  },
  {
   "cell_type": "markdown",
   "id": "e385907d",
   "metadata": {},
   "source": [
    "MNIST WITH CNN"
   ]
  },
  {
   "cell_type": "code",
   "execution_count": 2,
   "id": "b5c0472b",
   "metadata": {},
   "outputs": [],
   "source": [
    "import torch\n",
    "import torch.nn as nn\n",
    "import torch.nn.functional as F\n",
    "from torch.utils.data import DataLoader\n",
    "from torchvision import datasets, transforms\n",
    "from torchvision.utils import make_grid\n",
    "\n",
    "import numpy as np\n",
    "import pandas as pd\n",
    "from sklearn.metrics import confusion_matrix\n",
    "import matplotlib.pyplot as plt\n",
    "%matplotlib inline"
   ]
  },
  {
   "cell_type": "code",
   "execution_count": 3,
   "id": "ccd872be",
   "metadata": {},
   "outputs": [],
   "source": [
    "transform = transforms.ToTensor()"
   ]
  },
  {
   "cell_type": "code",
   "execution_count": 4,
   "id": "1cb15644",
   "metadata": {},
   "outputs": [],
   "source": [
    "train_data = datasets.MNIST(root='../Data', train= True, download= True, transform= transform)"
   ]
  },
  {
   "cell_type": "code",
   "execution_count": 5,
   "id": "12fa40af",
   "metadata": {},
   "outputs": [],
   "source": [
    "test_data = datasets.MNIST(root='../Data', train= False, download= True, transform= transform)"
   ]
  },
  {
   "cell_type": "code",
   "execution_count": 6,
   "id": "6f752ff8",
   "metadata": {},
   "outputs": [
    {
     "data": {
      "text/plain": [
       "Dataset MNIST\n",
       "    Number of datapoints: 60000\n",
       "    Split: train\n",
       "    Root Location: ../Data\n",
       "    Transforms (if any): ToTensor()\n",
       "    Target Transforms (if any): None"
      ]
     },
     "execution_count": 6,
     "metadata": {},
     "output_type": "execute_result"
    }
   ],
   "source": [
    "train_data"
   ]
  },
  {
   "cell_type": "code",
   "execution_count": 7,
   "id": "c39e89a2",
   "metadata": {},
   "outputs": [
    {
     "data": {
      "text/plain": [
       "Dataset MNIST\n",
       "    Number of datapoints: 10000\n",
       "    Split: test\n",
       "    Root Location: ../Data\n",
       "    Transforms (if any): ToTensor()\n",
       "    Target Transforms (if any): None"
      ]
     },
     "execution_count": 7,
     "metadata": {},
     "output_type": "execute_result"
    }
   ],
   "source": [
    "test_data"
   ]
  },
  {
   "cell_type": "code",
   "execution_count": 8,
   "id": "4a2077fb",
   "metadata": {},
   "outputs": [],
   "source": [
    "#want relatively small batch sizes, batch sizes of 4 is not uncommon\n",
    "#start small work up\n",
    "train_loader = DataLoader(train_data, batch_size = 10, shuffle = True)\n",
    "test_loader = DataLoader(test_data, batch_size = 10, shuffle = False)"
   ]
  },
  {
   "cell_type": "code",
   "execution_count": 11,
   "id": "78d86705",
   "metadata": {},
   "outputs": [],
   "source": [
    "conv1 = nn.Conv2d(in_channels = 1, out_channels = 6, kernel_size = 3, stride = 1)\n",
    "#conv1 --> 6 filters --> pooling --> conv2\n",
    "conv2 = nn.Conv2d(6,16,3,1)\n",
    "# 6 input filters conv1 output channels, 16 filters is how many we want to expand into"
   ]
  },
  {
   "cell_type": "code",
   "execution_count": 12,
   "id": "294ea847",
   "metadata": {},
   "outputs": [],
   "source": [
    "for i, (X_train, y_train) in enumerate(train_data):\n",
    "    break"
   ]
  },
  {
   "cell_type": "code",
   "execution_count": 16,
   "id": "4f24b429",
   "metadata": {},
   "outputs": [],
   "source": [
    "x = X_train.view(1,1,28,28)\n",
    "#4D batch (batch of 1 image)"
   ]
  },
  {
   "cell_type": "code",
   "execution_count": 17,
   "id": "28436934",
   "metadata": {},
   "outputs": [],
   "source": [
    "x = F.relu(conv1(x))"
   ]
  },
  {
   "cell_type": "code",
   "execution_count": 18,
   "id": "a21ed6d7",
   "metadata": {},
   "outputs": [
    {
     "data": {
      "text/plain": [
       "torch.Size([1, 6, 26, 26])"
      ]
     },
     "execution_count": 18,
     "metadata": {},
     "output_type": "execute_result"
    }
   ],
   "source": [
    "x.shape"
   ]
  },
  {
   "cell_type": "markdown",
   "id": "8c6e4803",
   "metadata": {},
   "source": [
    "1 image, 6 filters, no padding so drops to 26, 26 we loose a bit of the boarder info"
   ]
  },
  {
   "cell_type": "code",
   "execution_count": 20,
   "id": "62af6cbd",
   "metadata": {},
   "outputs": [],
   "source": [
    "x = F.max_pool2d(x, 2, 2)\n",
    "#kernel and stride are 2"
   ]
  },
  {
   "cell_type": "code",
   "execution_count": 21,
   "id": "951a6bd5",
   "metadata": {},
   "outputs": [
    {
     "data": {
      "text/plain": [
       "torch.Size([1, 6, 13, 13])"
      ]
     },
     "execution_count": 21,
     "metadata": {},
     "output_type": "execute_result"
    }
   ],
   "source": [
    "x.shape"
   ]
  },
  {
   "cell_type": "code",
   "execution_count": 22,
   "id": "37363ecd",
   "metadata": {},
   "outputs": [],
   "source": [
    "x = F.relu(conv2(x))"
   ]
  },
  {
   "cell_type": "code",
   "execution_count": 23,
   "id": "fec56dc9",
   "metadata": {},
   "outputs": [
    {
     "data": {
      "text/plain": [
       "torch.Size([1, 16, 11, 11])"
      ]
     },
     "execution_count": 23,
     "metadata": {},
     "output_type": "execute_result"
    }
   ],
   "source": [
    "x.shape"
   ]
  },
  {
   "cell_type": "code",
   "execution_count": 24,
   "id": "77cfe7b5",
   "metadata": {},
   "outputs": [],
   "source": [
    "x = F.max_pool2d(x, 2, 2)"
   ]
  },
  {
   "cell_type": "code",
   "execution_count": 25,
   "id": "a5301d43",
   "metadata": {},
   "outputs": [
    {
     "data": {
      "text/plain": [
       "torch.Size([1, 16, 5, 5])"
      ]
     },
     "execution_count": 25,
     "metadata": {},
     "output_type": "execute_result"
    }
   ],
   "source": [
    "x.shape"
   ]
  },
  {
   "cell_type": "code",
   "execution_count": 27,
   "id": "69803cf3",
   "metadata": {},
   "outputs": [
    {
     "data": {
      "text/plain": [
       "5.5"
      ]
     },
     "execution_count": 27,
     "metadata": {},
     "output_type": "execute_result"
    }
   ],
   "source": [
    "#esentially what happened was \n",
    "(((28-2)/2)-2)/2\n",
    "#rounded down"
   ]
  },
  {
   "cell_type": "code",
   "execution_count": 28,
   "id": "facb0d62",
   "metadata": {},
   "outputs": [
    {
     "data": {
      "text/plain": [
       "torch.Size([1, 400])"
      ]
     },
     "execution_count": 28,
     "metadata": {},
     "output_type": "execute_result"
    }
   ],
   "source": [
    "x.view(-1,16*5*5).shape"
   ]
  },
  {
   "cell_type": "markdown",
   "id": "abcd8d98",
   "metadata": {},
   "source": [
    "Model and Training"
   ]
  },
  {
   "cell_type": "code",
   "execution_count": 29,
   "id": "d7d93aec",
   "metadata": {},
   "outputs": [],
   "source": [
    "class ConvolutionalNetwork(nn.Module):\n",
    "    \n",
    "    def __init__(self):\n",
    "        super().__init__()\n",
    "        self.conv1 = nn.Conv2d(1,6,3,1)\n",
    "        #pooling layers are treated as activation functions\n",
    "        self.conv2 = nn.Conv2d(6,16,3,1)\n",
    "        self.fc1 = nn.Linear(5*5*16, 120)\n",
    "        self.fc2 = nn.Linear(120, 84)\n",
    "        self.fc3 = nn.Linear(84, 10) #these are arbitrary until 10, we have 10 classes\n",
    "        \n",
    "    def forward(self, X):\n",
    "        X = F.relu(self.conv1(X))\n",
    "        X = F.max_pool2d(X,2,2)\n",
    "        X = F.relu(self.conv2(X))\n",
    "        X = F.max_pool2d(X,2,2)\n",
    "        X = X.view(-1,16*5*5)\n",
    "        X = F.relu(self.fc1(X))\n",
    "        X = F.relu(self.fc2(X))\n",
    "        X = self.fc3(X)\n",
    "        return F.log_softmax(X, dim=1)"
   ]
  },
  {
   "cell_type": "code",
   "execution_count": 30,
   "id": "ff74bd46",
   "metadata": {},
   "outputs": [
    {
     "data": {
      "text/plain": [
       "ConvolutionalNetwork(\n",
       "  (conv1): Conv2d(1, 6, kernel_size=(3, 3), stride=(1, 1))\n",
       "  (conv2): Conv2d(6, 16, kernel_size=(3, 3), stride=(1, 1))\n",
       "  (fc1): Linear(in_features=400, out_features=120, bias=True)\n",
       "  (fc2): Linear(in_features=120, out_features=84, bias=True)\n",
       "  (fc3): Linear(in_features=84, out_features=10, bias=True)\n",
       ")"
      ]
     },
     "execution_count": 30,
     "metadata": {},
     "output_type": "execute_result"
    }
   ],
   "source": [
    "torch.manual_seed(42)\n",
    "model = ConvolutionalNetwork()\n",
    "model"
   ]
  },
  {
   "cell_type": "code",
   "execution_count": 31,
   "id": "acdf64fb",
   "metadata": {},
   "outputs": [
    {
     "name": "stdout",
     "output_type": "stream",
     "text": [
      "54\n",
      "6\n",
      "864\n",
      "16\n",
      "48000\n",
      "120\n",
      "10080\n",
      "84\n",
      "840\n",
      "10\n"
     ]
    }
   ],
   "source": [
    "for param in model.parameters():\n",
    "    print(param.numel())"
   ]
  },
  {
   "cell_type": "markdown",
   "id": "94e7bd9c",
   "metadata": {},
   "source": [
    "60074, almost half of that then the ANN and it will understand image data better"
   ]
  },
  {
   "cell_type": "code",
   "execution_count": 32,
   "id": "371aee4c",
   "metadata": {},
   "outputs": [],
   "source": [
    "criterion = nn.CrossEntropyLoss()\n",
    "optimizer = torch.optim.Adam(model.parameters(), lr= 0.001)"
   ]
  },
  {
   "cell_type": "code",
   "execution_count": 39,
   "id": "8dd7d462",
   "metadata": {},
   "outputs": [
    {
     "name": "stdout",
     "output_type": "stream",
     "text": [
      "epoch:  0  batch:  600 [  6000/60000]  loss: 0.00028674  accuracy:  99.583%\n",
      "epoch:  0  batch: 1200 [ 12000/60000]  loss: 0.00006208  accuracy:  99.525%\n",
      "epoch:  0  batch: 1800 [ 18000/60000]  loss: 0.00016558  accuracy:  99.483%\n",
      "epoch:  0  batch: 2400 [ 24000/60000]  loss: 0.00001842  accuracy:  99.479%\n",
      "epoch:  0  batch: 3000 [ 30000/60000]  loss: 0.00015654  accuracy:  99.510%\n",
      "epoch:  0  batch: 3600 [ 36000/60000]  loss: 0.00008265  accuracy:  99.447%\n",
      "epoch:  0  batch: 4200 [ 42000/60000]  loss: 0.00001753  accuracy:  99.398%\n",
      "epoch:  0  batch: 4800 [ 48000/60000]  loss: 0.00003100  accuracy:  99.396%\n",
      "epoch:  0  batch: 5400 [ 54000/60000]  loss: 0.00000901  accuracy:  99.378%\n",
      "epoch:  0  batch: 6000 [ 60000/60000]  loss: 0.00001347  accuracy:  99.388%\n",
      "epoch:  1  batch:  600 [  6000/60000]  loss: 0.00004281  accuracy:  99.617%\n",
      "epoch:  1  batch: 1200 [ 12000/60000]  loss: 0.00293649  accuracy:  99.700%\n",
      "epoch:  1  batch: 1800 [ 18000/60000]  loss: 0.00160724  accuracy:  99.589%\n",
      "epoch:  1  batch: 2400 [ 24000/60000]  loss: 0.02478775  accuracy:  99.550%\n",
      "epoch:  1  batch: 3000 [ 30000/60000]  loss: 0.00000502  accuracy:  99.593%\n",
      "epoch:  1  batch: 3600 [ 36000/60000]  loss: 0.00012140  accuracy:  99.525%\n",
      "epoch:  1  batch: 4200 [ 42000/60000]  loss: 0.00044664  accuracy:  99.529%\n",
      "epoch:  1  batch: 4800 [ 48000/60000]  loss: 0.00003286  accuracy:  99.523%\n",
      "epoch:  1  batch: 5400 [ 54000/60000]  loss: 0.00005079  accuracy:  99.500%\n",
      "epoch:  1  batch: 6000 [ 60000/60000]  loss: 0.00001855  accuracy:  99.485%\n",
      "epoch:  2  batch:  600 [  6000/60000]  loss: 0.00013990  accuracy:  99.733%\n",
      "epoch:  2  batch: 1200 [ 12000/60000]  loss: 0.00023497  accuracy:  99.700%\n",
      "epoch:  2  batch: 1800 [ 18000/60000]  loss: 0.00011019  accuracy:  99.633%\n",
      "epoch:  2  batch: 2400 [ 24000/60000]  loss: 0.00000046  accuracy:  99.650%\n",
      "epoch:  2  batch: 3000 [ 30000/60000]  loss: 0.00830434  accuracy:  99.650%\n",
      "epoch:  2  batch: 3600 [ 36000/60000]  loss: 0.00179233  accuracy:  99.600%\n",
      "epoch:  2  batch: 4200 [ 42000/60000]  loss: 0.00014584  accuracy:  99.595%\n",
      "epoch:  2  batch: 4800 [ 48000/60000]  loss: 0.00011422  accuracy:  99.594%\n",
      "epoch:  2  batch: 5400 [ 54000/60000]  loss: 0.00112258  accuracy:  99.556%\n",
      "epoch:  2  batch: 6000 [ 60000/60000]  loss: 0.00015953  accuracy:  99.567%\n",
      "epoch:  3  batch:  600 [  6000/60000]  loss: 0.00923970  accuracy:  99.667%\n",
      "epoch:  3  batch: 1200 [ 12000/60000]  loss: 0.18906638  accuracy:  99.642%\n",
      "epoch:  3  batch: 1800 [ 18000/60000]  loss: 0.00001808  accuracy:  99.628%\n",
      "epoch:  3  batch: 2400 [ 24000/60000]  loss: 0.00000021  accuracy:  99.608%\n",
      "epoch:  3  batch: 3000 [ 30000/60000]  loss: 0.00000713  accuracy:  99.633%\n",
      "epoch:  3  batch: 3600 [ 36000/60000]  loss: 0.00004259  accuracy:  99.614%\n",
      "epoch:  3  batch: 4200 [ 42000/60000]  loss: 0.00000017  accuracy:  99.598%\n",
      "epoch:  3  batch: 4800 [ 48000/60000]  loss: 0.00000221  accuracy:  99.596%\n",
      "epoch:  3  batch: 5400 [ 54000/60000]  loss: 0.00205833  accuracy:  99.593%\n",
      "epoch:  3  batch: 6000 [ 60000/60000]  loss: 0.00000865  accuracy:  99.578%\n",
      "epoch:  4  batch:  600 [  6000/60000]  loss: 0.02940830  accuracy:  99.700%\n",
      "epoch:  4  batch: 1200 [ 12000/60000]  loss: 0.00000211  accuracy:  99.667%\n",
      "epoch:  4  batch: 1800 [ 18000/60000]  loss: 0.00445970  accuracy:  99.706%\n",
      "epoch:  4  batch: 2400 [ 24000/60000]  loss: 0.00000006  accuracy:  99.725%\n",
      "epoch:  4  batch: 3000 [ 30000/60000]  loss: 0.03181884  accuracy:  99.683%\n",
      "epoch:  4  batch: 3600 [ 36000/60000]  loss: 0.00001329  accuracy:  99.639%\n",
      "epoch:  4  batch: 4200 [ 42000/60000]  loss: 0.05277172  accuracy:  99.619%\n",
      "epoch:  4  batch: 4800 [ 48000/60000]  loss: 0.00029455  accuracy:  99.608%\n",
      "epoch:  4  batch: 5400 [ 54000/60000]  loss: 0.00383830  accuracy:  99.620%\n",
      "epoch:  4  batch: 6000 [ 60000/60000]  loss: 0.00640569  accuracy:  99.620%\n",
      "\n",
      "Duration: 464 seconds\n"
     ]
    }
   ],
   "source": [
    "import time\n",
    "start_time = time.time()\n",
    "\n",
    "epochs = 5\n",
    "train_losses = []\n",
    "test_losses = []\n",
    "train_correct = []\n",
    "test_correct = []\n",
    "\n",
    "for i in range(epochs):\n",
    "    trn_corr = 0\n",
    "    tst_corr = 0\n",
    "    \n",
    "    # Run the training batches\n",
    "    for b, (X_train, y_train) in enumerate(train_loader):\n",
    "        b+=1\n",
    "        \n",
    "        # Apply the model\n",
    "        y_pred = model(X_train)  # we don't flatten X-train here\n",
    "        loss = criterion(y_pred, y_train)\n",
    " \n",
    "        # Tally the number of correct predictions\n",
    "        predicted = torch.max(y_pred.data, 1)[1]\n",
    "        batch_corr = (predicted == y_train).sum()\n",
    "        trn_corr += batch_corr\n",
    "        \n",
    "        # Update parameters\n",
    "        optimizer.zero_grad()\n",
    "        loss.backward()\n",
    "        optimizer.step()\n",
    "        \n",
    "        # Print interim results\n",
    "        if b%600 == 0:\n",
    "            print(f'epoch: {i:2}  batch: {b:4} [{10*b:6}/60000]  loss: {loss.item():10.8f}  \\\n",
    "accuracy: {trn_corr.item()*100/(10*b):7.3f}%')\n",
    "        \n",
    "    train_losses.append(loss)\n",
    "    train_correct.append(trn_corr)\n",
    "        \n",
    "    # Run the testing batches\n",
    "    with torch.no_grad():\n",
    "        for b, (X_test, y_test) in enumerate(test_loader):\n",
    "\n",
    "            # Apply the model\n",
    "            y_val = model(X_test)\n",
    "\n",
    "            # Tally the number of correct predictions\n",
    "            predicted = torch.max(y_val.data, 1)[1] \n",
    "            tst_corr += (predicted == y_test).sum()\n",
    "            \n",
    "    loss = criterion(y_val, y_test)\n",
    "    test_losses.append(loss)\n",
    "    test_correct.append(tst_corr)\n",
    "        \n",
    "print(f'\\nDuration: {time.time() - start_time:.0f} seconds') # print the time elapsed            "
   ]
  },
  {
   "cell_type": "code",
   "execution_count": 42,
   "id": "b1766804",
   "metadata": {},
   "outputs": [
    {
     "data": {
      "image/png": "[encoded data removed]",
      "text/plain": [
       "<Figure size 432x288 with 1 Axes>"
      ]
     },
     "metadata": {
      "needs_background": "light"
     },
     "output_type": "display_data"
    }
   ],
   "source": [
    "plt.plot(train_losses, label='training loss')\n",
    "plt.plot(test_losses, label='validation loss')\n",
    "plt.title('Loss at the end of each epoch')\n",
    "plt.legend();"
   ]
  },
  {
   "cell_type": "code",
   "execution_count": 41,
   "id": "2d616c4a",
   "metadata": {},
   "outputs": [
    {
     "data": {
      "text/plain": [
       "[tensor(3.8266e-06),\n",
       " tensor(2.8610e-07),\n",
       " tensor(3.6835e-06),\n",
       " tensor(1.6689e-07),\n",
       " tensor(4.4106e-06)]"
      ]
     },
     "execution_count": 41,
     "metadata": {},
     "output_type": "execute_result"
    }
   ],
   "source": [
    "test_losses"
   ]
  },
  {
   "cell_type": "code",
   "execution_count": 43,
   "id": "d6027eb9",
   "metadata": {},
   "outputs": [
    {
     "data": {
      "image/png": "[encoded data removed]",
      "text/plain": [
       "<Figure size 432x288 with 1 Axes>"
      ]
     },
     "metadata": {
      "needs_background": "light"
     },
     "output_type": "display_data"
    }
   ],
   "source": [
    "plt.plot([t/600 for t in train_correct], label='training accuracy')\n",
    "plt.plot([t/100 for t in test_correct], label='validation accuracy')\n",
    "plt.title('Accuracy at the end of each epoch')\n",
    "plt.legend();"
   ]
  },
  {
   "cell_type": "code",
   "execution_count": 44,
   "id": "8ea11cda",
   "metadata": {},
   "outputs": [],
   "source": [
    "test_load_all = DataLoader(test_data, batch_size = 10000, shuffle = False)"
   ]
  },
  {
   "cell_type": "code",
   "execution_count": 45,
   "id": "c5882bd7",
   "metadata": {},
   "outputs": [],
   "source": [
    "with torch.no_grad():\n",
    "    correct = 0\n",
    "    for X_test, y_test in test_load_all:\n",
    "        y_val = model(X_test)\n",
    "        predicted = torch.max(y_val,1)[1]\n",
    "        correct += (predicted == y_test).sum()"
   ]
  },
  {
   "cell_type": "code",
   "execution_count": 46,
   "id": "f124d5ae",
   "metadata": {},
   "outputs": [
    {
     "data": {
      "text/plain": [
       "0.9886"
      ]
     },
     "execution_count": 46,
     "metadata": {},
     "output_type": "execute_result"
    }
   ],
   "source": [
    "correct.item()/len(test_data)"
   ]
  },
  {
   "cell_type": "code",
   "execution_count": 50,
   "id": "4b54f5dd",
   "metadata": {},
   "outputs": [
    {
     "data": {
      "text/plain": [
       "<matplotlib.image.AxesImage at 0x27c3e0e9550>"
      ]
     },
     "execution_count": 50,
     "metadata": {},
     "output_type": "execute_result"
    },
    {
     "data": {
      "image/png": "[encoded data removed]",
      "text/plain": [
       "<Figure size 432x288 with 1 Axes>"
      ]
     },
     "metadata": {
      "needs_background": "light"
     },
     "output_type": "display_data"
    }
   ],
   "source": [
    "plt.imshow(test_data[2019][0].reshape(28,28))"
   ]
  },
  {
   "cell_type": "code",
   "execution_count": 51,
   "id": "850e960c",
   "metadata": {},
   "outputs": [],
   "source": [
    "model.eval()\n",
    "with torch.no_grad():\n",
    "    new_prediction = model(test_data[2019][0].view(1,1,28,28))"
   ]
  },
  {
   "cell_type": "code",
   "execution_count": 52,
   "id": "10174c8a",
   "metadata": {},
   "outputs": [
    {
     "data": {
      "text/plain": [
       "tensor(9)"
      ]
     },
     "execution_count": 52,
     "metadata": {},
     "output_type": "execute_result"
    }
   ],
   "source": [
    "new_prediction.argmax()"
   ]
  },
  {
   "cell_type": "markdown",
   "id": "1cc15175",
   "metadata": {},
   "source": [
    "CIFAR-10 Dataset with CNN"
   ]
  },
  {
   "cell_type": "markdown",
   "id": "51f4fcd3",
   "metadata": {},
   "source": [
    "- 32x32 color images"
   ]
  },
  {
   "cell_type": "code",
   "execution_count": 1,
   "id": "5af38d43",
   "metadata": {},
   "outputs": [],
   "source": [
    "import torch\n",
    "import torch.nn as nn\n",
    "import torch.nn.functional as F\n",
    "from torch.utils.data import DataLoader\n",
    "from torchvision import datasets, transforms\n",
    "from torchvision.utils import make_grid\n",
    "\n",
    "import numpy as np\n",
    "import pandas as pd\n",
    "import seaborn as sn  # for heatmaps\n",
    "from sklearn.metrics import confusion_matrix\n",
    "import matplotlib.pyplot as plt\n",
    "%matplotlib inline"
   ]
  },
  {
   "cell_type": "code",
   "execution_count": 2,
   "id": "db4e5cec",
   "metadata": {},
   "outputs": [],
   "source": [
    "transform = transforms.ToTensor()"
   ]
  },
  {
   "cell_type": "code",
   "execution_count": null,
   "id": "ba09762f",
   "metadata": {},
   "outputs": [],
   "source": [
    "train_data = datasets.CIFAR10(root=../Data)"
   ]
  }
 ],
 "metadata": {
  "kernelspec": {
   "display_name": "Python 3 (ipykernel)",
   "language": "python",
   "name": "python3"
  },
  "language_info": {
   "codemirror_mode": {
    "name": "ipython",
    "version": 3
   },
   "file_extension": ".py",
   "mimetype": "text/x-python",
   "name": "python",
   "nbconvert_exporter": "python",
   "pygments_lexer": "ipython3",
   "version": "3.7.3"
  }
 },
 "nbformat": 4,
 "nbformat_minor": 5
}
